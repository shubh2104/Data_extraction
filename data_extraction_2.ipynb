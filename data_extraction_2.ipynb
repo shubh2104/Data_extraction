{
 "cells": [
  {
   "cell_type": "code",
   "execution_count": 1,
   "id": "14785ca3",
   "metadata": {},
   "outputs": [
    {
     "name": "stdout",
     "output_type": "stream",
     "text": [
      "Defaulting to user installation because normal site-packages is not writeable\n",
      "Requirement already satisfied: pandas in d:\\new folder (2)\\lib\\site-packages (1.5.3)\n",
      "Requirement already satisfied: nltk in d:\\new folder (2)\\lib\\site-packages (3.7)\n",
      "Requirement already satisfied: python-dateutil>=2.8.1 in d:\\new folder (2)\\lib\\site-packages (from pandas) (2.8.2)\n",
      "Requirement already satisfied: pytz>=2020.1 in d:\\new folder (2)\\lib\\site-packages (from pandas) (2022.7)\n",
      "Requirement already satisfied: numpy>=1.21.0 in d:\\new folder (2)\\lib\\site-packages (from pandas) (1.23.5)\n",
      "Requirement already satisfied: click in d:\\new folder (2)\\lib\\site-packages (from nltk) (8.0.4)\n",
      "Requirement already satisfied: joblib in d:\\new folder (2)\\lib\\site-packages (from nltk) (1.1.1)\n",
      "Requirement already satisfied: regex>=2021.8.3 in d:\\new folder (2)\\lib\\site-packages (from nltk) (2022.7.9)\n",
      "Requirement already satisfied: tqdm in d:\\new folder (2)\\lib\\site-packages (from nltk) (4.64.1)\n",
      "Requirement already satisfied: six>=1.5 in d:\\new folder (2)\\lib\\site-packages (from python-dateutil>=2.8.1->pandas) (1.16.0)\n",
      "Requirement already satisfied: colorama in d:\\new folder (2)\\lib\\site-packages (from click->nltk) (0.4.6)\n"
     ]
    }
   ],
   "source": [
    "!pip install pandas nltk"
   ]
  },
  {
   "cell_type": "code",
   "execution_count": 2,
   "id": "14739d60",
   "metadata": {},
   "outputs": [
    {
     "name": "stderr",
     "output_type": "stream",
     "text": [
      "[nltk_data] Downloading package punkt to\n",
      "[nltk_data]     C:\\Users\\SHUBHAM\\AppData\\Roaming\\nltk_data...\n",
      "[nltk_data]   Package punkt is already up-to-date!\n",
      "[nltk_data] Downloading package stopwords to\n",
      "[nltk_data]     C:\\Users\\SHUBHAM\\AppData\\Roaming\\nltk_data...\n",
      "[nltk_data]   Unzipping corpora\\stopwords.zip.\n"
     ]
    },
    {
     "data": {
      "text/plain": [
       "True"
      ]
     },
     "execution_count": 2,
     "metadata": {},
     "output_type": "execute_result"
    }
   ],
   "source": [
    "import pandas as pd\n",
    "import nltk\n",
    "from nltk import word_tokenize\n",
    "from nltk.probability import FreqDist\n",
    "from nltk.corpus import stopwords\n",
    "from bs4 import BeautifulSoup\n",
    "import requests\n",
    "import re\n",
    "nltk.download('punkt')\n",
    "nltk.download('stopwords')"
   ]
  },
  {
   "cell_type": "code",
   "execution_count": 3,
   "id": "9eab6ca2",
   "metadata": {},
   "outputs": [],
   "source": [
    "def extract_article_text(url):\n",
    "    response = requests.get(url)\n",
    "    soup = BeautifulSoup(response.text, 'html.parser')\n",
    "\n",
    "    # Remove scripts and styles from the HTML\n",
    "    for script in soup(['script', 'style']):\n",
    "        script.extract()\n",
    "\n",
    "    # Extract article text\n",
    "    article_text = \"\"\n",
    "    for paragraph in soup.find_all('p'):\n",
    "        article_text += paragraph.get_text() + \"\\n\"\n",
    "\n",
    "    return article_text.strip()"
   ]
  },
  {
   "cell_type": "code",
   "execution_count": 4,
   "id": "eb5516cd",
   "metadata": {},
   "outputs": [],
   "source": [
    "def compute_word_count(text):\n",
    "    tokens = word_tokenize(text)\n",
    "    return len(tokens)"
   ]
  },
  {
   "cell_type": "code",
   "execution_count": 5,
   "id": "84459f93",
   "metadata": {},
   "outputs": [],
   "source": [
    "def compute_unique_word_count(text):\n",
    "    tokens = word_tokenize(text)\n",
    "    unique_tokens = set(tokens)\n",
    "    return len(unique_tokens)"
   ]
  },
  {
   "cell_type": "code",
   "execution_count": 6,
   "id": "89799c27",
   "metadata": {},
   "outputs": [],
   "source": [
    "def compute_stopword_count(text):\n",
    "    tokens = word_tokenize(text)\n",
    "    stop_words = set(stopwords.words('english'))\n",
    "    stopword_count = sum(1 for word in tokens if word.lower() in stop_words)\n",
    "    return stopword_count"
   ]
  },
  {
   "cell_type": "code",
   "execution_count": 7,
   "id": "4fd93d62",
   "metadata": {},
   "outputs": [],
   "source": [
    "def compute_most_common_words(text, n=10):\n",
    "    tokens = word_tokenize(text)\n",
    "    fdist = FreqDist(tokens)\n",
    "    most_common_words = fdist.most_common(n)\n",
    "    return ', '.join([word[0] for word in most_common_words])"
   ]
  },
  {
   "cell_type": "code",
   "execution_count": 8,
   "id": "c888e6f5",
   "metadata": {},
   "outputs": [],
   "source": [
    "def compute_average_word_length(text):\n",
    "    tokens = word_tokenize(text)\n",
    "    word_lengths = [len(word) for word in tokens]\n",
    "    return sum(word_lengths) / len(word_lengths)"
   ]
  },
  {
   "cell_type": "code",
   "execution_count": 9,
   "id": "0fc4da46",
   "metadata": {},
   "outputs": [],
   "source": [
    "def compute_average_sentence_length(text):\n",
    "    sentences = nltk.sent_tokenize(text)\n",
    "    sentence_lengths = [len(word_tokenize(sentence)) for sentence in sentences]\n",
    "    return sum(sentence_lengths) / len(sentence_lengths)"
   ]
  },
  {
   "cell_type": "code",
   "execution_count": 10,
   "id": "8f494907",
   "metadata": {},
   "outputs": [],
   "source": [
    "# Read the data from input.xlsx\n",
    "input_file = \"input.xlsx\"\n",
    "df = pd.read_excel(input_file)"
   ]
  },
  {
   "cell_type": "code",
   "execution_count": 11,
   "id": "0ed78242",
   "metadata": {},
   "outputs": [],
   "source": [
    "output_structure = {\n",
    "    'URL_ID': [],\n",
    "    'Word_Count': [],\n",
    "    'Unique_Word_Count': [],\n",
    "    'Stopword_Count': [],\n",
    "    'Most_Common_Words': [],\n",
    "    'Average_Word_Length': [],\n",
    "    'Average_Sentence_Length': []\n",
    "}"
   ]
  },
  {
   "cell_type": "code",
   "execution_count": 12,
   "id": "0b3ef8d4",
   "metadata": {},
   "outputs": [],
   "source": [
    "# Process each URL and extract article text\n",
    "for index, row in df.iterrows():\n",
    "    url = row['URL']\n",
    "    url_id = re.sub(r'\\W+', '', url)  # Remove non-alphanumeric characters from the URL\n",
    "\n",
    "    article_text = extract_article_text(url)\n",
    "    word_count = compute_word_count(article_text)\n",
    "    unique_word_count = compute_unique_word_count(article_text)\n",
    "    stopword_count = compute_stopword_count(article_text)\n",
    "    most_common_words = compute_most_common_words(article_text)\n",
    "    average_word_length = compute_average_word_length(article_text)\n",
    "    average_sentence_length = compute_average_sentence_length(article_text)\n",
    "\n",
    "    # Append the computed values to the output data structure\n",
    "    output_structure['URL_ID'].append(url_id)\n",
    "    output_structure['Word_Count'].append(word_count)\n",
    "    output_structure['Unique_Word_Count'].append(unique_word_count)\n",
    "    output_structure['Stopword_Count'].append(stopword_count)\n",
    "    output_structure['Most_Common_Words'].append(most_common_words)\n",
    "    output_structure['Average_Word_Length'].append(average_word_length)\n",
    "    output_structure['Average_Sentence_Length'].append(average_sentence_length)"
   ]
  },
  {
   "cell_type": "code",
   "execution_count": 13,
   "id": "49abdd55",
   "metadata": {},
   "outputs": [],
   "source": [
    "# Create the output DataFrame and save it to output.xlsx\n",
    "output_df = pd.DataFrame(output_structure)\n",
    "output_df.to_excel('output.xlsx', index=False)"
   ]
  },
  {
   "cell_type": "code",
   "execution_count": null,
   "id": "ec771a2d",
   "metadata": {},
   "outputs": [],
   "source": []
  }
 ],
 "metadata": {
  "kernelspec": {
   "display_name": "Python 3 (ipykernel)",
   "language": "python",
   "name": "python3"
  },
  "language_info": {
   "codemirror_mode": {
    "name": "ipython",
    "version": 3
   },
   "file_extension": ".py",
   "mimetype": "text/x-python",
   "name": "python",
   "nbconvert_exporter": "python",
   "pygments_lexer": "ipython3",
   "version": "3.10.9"
  }
 },
 "nbformat": 4,
 "nbformat_minor": 5
}
