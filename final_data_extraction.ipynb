{
 "cells": [
  {
   "cell_type": "code",
   "execution_count": 1,
   "id": "71a5f4ec",
   "metadata": {},
   "outputs": [
    {
     "name": "stdout",
     "output_type": "stream",
     "text": [
      "Defaulting to user installation because normal site-packages is not writeable\n",
      "Collecting vaderSentiment\n",
      "  Downloading vaderSentiment-3.3.2-py2.py3-none-any.whl (125 kB)\n",
      "     ---------------------------------------- 0.0/126.0 kB ? eta -:--:--\n",
      "     ------------------- ------------------- 61.4/126.0 kB 1.6 MB/s eta 0:00:01\n",
      "     -------------------------------------- 126.0/126.0 kB 1.5 MB/s eta 0:00:00\n",
      "Requirement already satisfied: requests in d:\\new folder (2)\\lib\\site-packages (from vaderSentiment) (2.28.1)\n",
      "Requirement already satisfied: charset-normalizer<3,>=2 in d:\\new folder (2)\\lib\\site-packages (from requests->vaderSentiment) (2.0.4)\n",
      "Requirement already satisfied: idna<4,>=2.5 in d:\\new folder (2)\\lib\\site-packages (from requests->vaderSentiment) (3.4)\n",
      "Requirement already satisfied: urllib3<1.27,>=1.21.1 in d:\\new folder (2)\\lib\\site-packages (from requests->vaderSentiment) (1.26.14)\n",
      "Requirement already satisfied: certifi>=2017.4.17 in d:\\new folder (2)\\lib\\site-packages (from requests->vaderSentiment) (2022.12.7)\n",
      "Installing collected packages: vaderSentiment\n",
      "Successfully installed vaderSentiment-3.3.2\n"
     ]
    }
   ],
   "source": [
    "!pip install vaderSentiment"
   ]
  },
  {
   "cell_type": "code",
   "execution_count": 2,
   "id": "6aec4e82",
   "metadata": {},
   "outputs": [
    {
     "name": "stderr",
     "output_type": "stream",
     "text": [
      "[nltk_data] Downloading package punkt to\n",
      "[nltk_data]     C:\\Users\\SHUBHAM\\AppData\\Roaming\\nltk_data...\n",
      "[nltk_data]   Package punkt is already up-to-date!\n",
      "[nltk_data] Downloading package stopwords to\n",
      "[nltk_data]     C:\\Users\\SHUBHAM\\AppData\\Roaming\\nltk_data...\n",
      "[nltk_data]   Package stopwords is already up-to-date!\n"
     ]
    },
    {
     "data": {
      "text/plain": [
       "True"
      ]
     },
     "execution_count": 2,
     "metadata": {},
     "output_type": "execute_result"
    }
   ],
   "source": [
    "import pandas as pd\n",
    "import nltk\n",
    "from nltk import word_tokenize\n",
    "from nltk.probability import FreqDist\n",
    "from nltk.corpus import stopwords\n",
    "from bs4 import BeautifulSoup\n",
    "import requests\n",
    "import re\n",
    "from vaderSentiment.vaderSentiment import SentimentIntensityAnalyzer\n",
    "nltk.download('punkt')\n",
    "nltk.download('stopwords')"
   ]
  },
  {
   "cell_type": "code",
   "execution_count": 3,
   "id": "5e1254db",
   "metadata": {},
   "outputs": [],
   "source": [
    "def extract_article_text(url):\n",
    "    response = requests.get(url)\n",
    "    soup = BeautifulSoup(response.text, 'html.parser')\n",
    "\n",
    "    # Remove scripts and styles from the HTML\n",
    "    for script in soup(['script', 'style']):\n",
    "        script.extract()\n",
    "\n",
    "    # Extract article text\n",
    "    article_text = \"\"\n",
    "    for paragraph in soup.find_all('p'):\n",
    "        article_text += paragraph.get_text() + \"\\n\"\n",
    "\n",
    "    return article_text.strip()"
   ]
  },
  {
   "cell_type": "code",
   "execution_count": 4,
   "id": "7e5d65d6",
   "metadata": {},
   "outputs": [],
   "source": [
    "def compute_word_count(text):\n",
    "    tokens = word_tokenize(text)\n",
    "    return len(tokens)\n",
    "\n",
    "def compute_unique_word_count(text):\n",
    "    tokens = word_tokenize(text)\n",
    "    unique_tokens = set(tokens)\n",
    "    return len(unique_tokens)\n",
    "\n",
    "def compute_stopword_count(text):\n",
    "    tokens = word_tokenize(text)\n",
    "    stop_words = set(stopwords.words('english'))\n",
    "    stopword_count = sum(1 for word in tokens if word.lower() in stop_words)\n",
    "    return stopword_count"
   ]
  },
  {
   "cell_type": "code",
   "execution_count": 5,
   "id": "02c73d86",
   "metadata": {},
   "outputs": [],
   "source": [
    "def compute_most_common_words(text, n=10):\n",
    "    tokens = word_tokenize(text)\n",
    "    fdist = FreqDist(tokens)\n",
    "    most_common_words = fdist.most_common(n)\n",
    "    return ', '.join([word[0] for word in most_common_words])\n",
    "\n",
    "def compute_average_word_length(text):\n",
    "    tokens = word_tokenize(text)\n",
    "    word_lengths = [len(word) for word in tokens]\n",
    "    return sum(word_lengths) / len(word_lengths)"
   ]
  },
  {
   "cell_type": "code",
   "execution_count": 6,
   "id": "e0b125d2",
   "metadata": {},
   "outputs": [],
   "source": [
    "def compute_average_sentence_length(text):\n",
    "    sentences = nltk.sent_tokenize(text)\n",
    "    sentence_lengths = [len(word_tokenize(sentence)) for sentence in sentences]\n",
    "    return sum(sentence_lengths) / len(sentence_lengths)\n",
    "\n",
    "def compute_sentiment_scores(text):\n",
    "    analyzer = SentimentIntensityAnalyzer()\n",
    "    sentiment_scores = analyzer.polarity_scores(text)\n",
    "    return sentiment_scores['pos'], sentiment_scores['neg']"
   ]
  },
  {
   "cell_type": "code",
   "execution_count": 7,
   "id": "9fa08283",
   "metadata": {},
   "outputs": [],
   "source": [
    "def compute_subjectivity_score(text):\n",
    "    analyzer = SentimentIntensityAnalyzer()\n",
    "    sentiment_scores = analyzer.polarity_scores(text)\n",
    "    return sentiment_scores['compound']\n",
    "\n",
    "def compute_percentage_complex_words(text):\n",
    "    tokens = word_tokenize(text)\n",
    "    complex_words = [word for word in tokens if len(word) > 2]  # You can customize the complexity criterion\n",
    "    percentage_complex = (len(complex_words) / len(tokens)) * 100\n",
    "    return percentage_complex"
   ]
  },
  {
   "cell_type": "code",
   "execution_count": 8,
   "id": "44a72d4b",
   "metadata": {},
   "outputs": [],
   "source": [
    "def compute_fog_index(avg_sentence_length, percentage_complex_words):\n",
    "    return 0.4 * (avg_sentence_length + percentage_complex_words)\n",
    "\n",
    "def compute_complex_word_count(text):\n",
    "    tokens = word_tokenize(text)\n",
    "    complex_words = [word for word in tokens if len(word) > 2]  # You can customize the complexity criterion\n",
    "    return len(complex_words)"
   ]
  },
  {
   "cell_type": "code",
   "execution_count": 9,
   "id": "31e7ad8d",
   "metadata": {},
   "outputs": [],
   "source": [
    "def count_syllables(word):\n",
    "    # Replace this with your custom code to count syllables in a word\n",
    "    return 1\n",
    "\n",
    "def compute_syllable_per_word(text):\n",
    "    tokens = word_tokenize(text)\n",
    "    total_syllables = sum(count_syllables(word) for word in tokens)\n",
    "    return total_syllables / len(tokens)\n",
    "\n",
    "def compute_personal_pronouns(text):\n",
    "    personal_pronouns = [\"I\", \"you\", \"he\", \"she\", \"we\", \"they\", \"me\", \"you\", \"him\", \"her\", \"us\", \"them\"]\n",
    "    tokens = word_tokenize(text)\n",
    "    personal_pronoun_count = sum(1 for word in tokens if word.lower() in personal_pronouns)\n",
    "    return personal_pronoun_count"
   ]
  },
  {
   "cell_type": "code",
   "execution_count": 11,
   "id": "8bb94e92",
   "metadata": {},
   "outputs": [],
   "source": [
    "input_file = \"input.xlsx\"\n",
    "df = pd.read_excel(input_file)\n",
    "\n",
    "# Process each URL and extract article text\n",
    "output_data = []\n",
    "for index, row in df.iterrows():\n",
    "    url = row['URL']\n",
    "    url_id = re.sub(r'\\W+', '', url)  # Remove non-alphanumeric characters from the URL\n",
    "\n",
    "    article_text = extract_article_text(url)\n",
    "    word_count = compute_word_count(article_text)\n",
    "    unique_word_count = compute_unique_word_count(article_text)\n",
    "    stopword_count = compute_stopword_count(article_text)\n",
    "    most_common_words = compute_most_common_words(article_text)\n",
    "    average_word_length = compute_average_word_length(article_text)\n",
    "    average_sentence_length = compute_average_sentence_length(article_text)\n",
    "    positive_score, negative_score = compute_sentiment_scores(article_text)\n",
    "    polarity_score = positive_score - negative_score\n",
    "    subjectivity_score = compute_subjectivity_score(article_text)\n",
    "    percentage_complex_words = compute_percentage_complex_words(article_text)\n",
    "    fog_index = compute_fog_index(average_sentence_length, percentage_complex_words)\n",
    "    complex_word_count = compute_complex_word_count(article_text)\n",
    "    syllable_per_word = compute_syllable_per_word(article_text)\n",
    "    personal_pronouns = compute_personal_pronouns(article_text)\n",
    "\n",
    "    # Append the computed values to the output data\n",
    "    output_data.append([\n",
    "        url_id, word_count, unique_word_count, stopword_count, most_common_words, average_word_length,\n",
    "        average_sentence_length, positive_score, negative_score, polarity_score, subjectivity_score,\n",
    "        percentage_complex_words, fog_index, complex_word_count, syllable_per_word, personal_pronouns\n",
    "    ])\n",
    "\n",
    "# Create the output DataFrame and save it to output.xlsx\n",
    "output_df = pd.DataFrame(output_data, columns=[\n",
    "    'URL_ID', 'Word_Count', 'Unique_Word_Count', 'Stopword_Count', 'Most_Common_Words', 'Average_Word_Length',\n",
    "    'Average_Sentence_Length', 'Positive_Score', 'Negative_Score', 'Polarity_Score', 'Subjectivity_Score',\n",
    "    'Percentage_Complex_Words', 'FOG_Index', 'Complex_Word_Count', 'Syllable_Per_Word', 'Personal_Pronouns'\n",
    "])\n",
    "\n",
    "output_df.to_excel('output.xlsx', index=False)"
   ]
  },
  {
   "cell_type": "code",
   "execution_count": null,
   "id": "a0ceec2c",
   "metadata": {},
   "outputs": [],
   "source": []
  }
 ],
 "metadata": {
  "kernelspec": {
   "display_name": "Python 3 (ipykernel)",
   "language": "python",
   "name": "python3"
  },
  "language_info": {
   "codemirror_mode": {
    "name": "ipython",
    "version": 3
   },
   "file_extension": ".py",
   "mimetype": "text/x-python",
   "name": "python",
   "nbconvert_exporter": "python",
   "pygments_lexer": "ipython3",
   "version": "3.10.9"
  }
 },
 "nbformat": 4,
 "nbformat_minor": 5
}
